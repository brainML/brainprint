{
 "cells": [
  {
   "cell_type": "code",
   "execution_count": 1,
   "metadata": {},
   "outputs": [],
   "source": [
    "import numpy as np\n",
    "import matplotlib.pyplot as plt\n",
    "import os\n",
    "import scipy.io as sio\n",
    "from scipy.stats.stats import pearsonr   \n",
    "import scipy.stats as ss\n",
    "import scipy.signal as ssg\n",
    "from scipy.io import savemat\n",
    "import time\n",
    "import h5py\n",
    "import mne\n",
    "import timeit\n",
    "import random\n",
    "import glob  \n",
    "import re\n",
    "\n",
    "def spatial_cov(data):\n",
    "    #input[ch time nstimuli]\n",
    "    return(np.cov(data.reshape([data.shape[0],-1])))\n",
    "\n",
    "def spatial_corr(data):\n",
    "    #input[ch time nstimuli]\n",
    "    return(np.corrcoef(data.reshape([data.shape[0],-1])))\n",
    "\n",
    "\n",
    "def temporal_cov(data):\n",
    "    #input[ch time nstimuli]\n",
    "    data=np.swapaxes(data,1,0)\n",
    "    return(np.cov(data.reshape([data.shape[0],-1])))\n",
    "\n",
    "def temporal_corr(data):\n",
    "    #input[ch time nstimuli]\n",
    "    data=np.swapaxes(data,1,0)\n",
    "    return(np.corrcoef(data.reshape([data.shape[0],-1])))\n",
    "\n",
    "\n",
    "def compress_dim_by_n_nosti(data,dim,n):\n",
    "    #assume data is of [nch ntime ]\n",
    "    \n",
    "    data_output=np.zeros([int(data.shape[0]/n),data.shape[1]])\n",
    "    for i in range(data_output.shape[0]):\n",
    "        data_output[i]=np.mean(data[i*n:(i+1)*n],axis=0)\n",
    "   \n",
    "    return(data_output)\n",
    "\n",
    "\n",
    "def compress_dim_by_n(data,dim,n):\n",
    "    #assume data is of [ntime nch nstimuli]\n",
    "    if dim==0:\n",
    "        data_output=np.zeros([int(data.shape[0]/n),data.shape[1],data.shape[2]])\n",
    "        for i in range(data_output.shape[0]):\n",
    "            data_output[i]=np.mean(data[i*n:(i+1)*n],axis=0)\n",
    "    elif dim ==1:\n",
    "        data_output=np.zeros([data.shape[0],int(data.shape[1]/n),data.shape[2]])\n",
    "        for i in range(data_output.shape[1]):\n",
    "            data_output[:,i,:]=np.mean(data[:,i*n:(i+1)*n,:],axis=1)\n",
    "    return(data_output)\n",
    "\n",
    "\n",
    "def compare_features(features1, features2, metric='corr',individual = False):\n",
    "    # compare features1 to features2 (order matters!)\n",
    "    y_true = np.arange(len(features1))\n",
    "    if metric=='corr':\n",
    "        dists = np.corrcoef(features1.reshape(features1.shape[0],-1),features2.reshape(features2.shape[0],-1))[:len(features1),len(features1):]\n",
    "    else:\n",
    "        print('unrecognized metric!')\n",
    "    y_pred=np.argmax(dists,axis=1)\n",
    "    if individual:\n",
    "        return(y_pred==y_true)\n",
    "    else:\n",
    "        return(np.mean(y_pred==y_true))\n",
    "\n",
    "\n",
    "def get_acc_results(data, nrep=100,individual = False):\n",
    "    # return [n_trainsizes, nsession^2, number of nrep]\n",
    "    accs = []\n",
    "    for kk in range(int(len(data[0][0])/nrep)): # train size loop\n",
    "        accs_tmp=[]\n",
    "        for i in range(len(data)):\n",
    "            for j in range(len(data)):\n",
    "                accs_tmp_tmp=[]                \n",
    "                for k in range(nrep):\n",
    "                    features1=data[i,:,k+kk*nrep]\n",
    "                    features2=data[j,:,k+kk*nrep]\n",
    "                    accs_tmp_tmp.append(compare_features(features1, features2,'corr',individual))\n",
    "                accs_tmp.append(accs_tmp_tmp) \n",
    "        accs.append(accs_tmp)\n",
    "    return(np.array(accs))\n"
   ]
  },
  {
   "cell_type": "markdown",
   "metadata": {},
   "source": [
    "# FST (Figure 4)"
   ]
  },
  {
   "cell_type": "code",
   "execution_count": null,
   "metadata": {
    "scrolled": true
   },
   "outputs": [],
   "source": [
    "n_train_rep=100\n",
    "features1=[]\n",
    "features2=[]\n",
    "features3=[]\n",
    "root_dir = \"path_to_root\";\n",
    "subj_names = ['AT','DR','JG','JK']\n",
    "\n",
    "#[nsessions nsubjects ntrainsizes nrep_per_trainsize]\n",
    "for session in [1,2,3,4]:\n",
    "    tmp1 = []\n",
    "    tmp2 = []\n",
    "    tmp3 = []\n",
    "\n",
    "    for subj in subj_names:\n",
    "        names = glob.glob(root_dir+subj+'/session'+str(session)+'/fst_b*.fif')\n",
    "        fname=names[-1]     \n",
    "        data = sio.loadmat(fname[:-6]+'feature_sst_empty_filter_ecg_eog.mat')\n",
    "        feature1 = data['feature1']\n",
    "        feature2 = data['feature2']\n",
    "        feature3 = data['feature3']\n",
    "        tmp1.append(feature1)\n",
    "        tmp2.append(feature2)\n",
    "        tmp3.append(feature3)\n",
    "\n",
    "    features1.append(tmp1)\n",
    "    features2.append(tmp2)\n",
    "    features3.append(tmp3)\n",
    "\n",
    "feature1=np.array(features1)\n",
    "feature2=np.array(features2)\n",
    "feature3=np.array(features3dd)\n",
    "features = [feature1,feature2,feature3]\n",
    "\n",
    "\n",
    "\n",
    "accs=[get_acc_results(features[i], n_train_rep,True) for i in range(3)]  \n",
    "accs=np.array(accs)\n",
    "\n",
    "accs_rank=[get_acc_results(features[i][:,:, -n_train_rep:None],n_train_rep,False) for i in range(3)]  \n",
    "accs_rank=np.array(accs_rank)\n",
    "\n",
    "\n"
   ]
  },
  {
   "cell_type": "code",
   "execution_count": 10,
   "metadata": {
    "scrolled": true
   },
   "outputs": [
    {
     "data": {
      "image/png": "[encoded data removed]",
      "text/plain": [
       "<Figure size 288x144 with 4 Axes>"
      ]
     },
     "metadata": {
      "needs_background": "light"
     },
     "output_type": "display_data"
    }
   ],
   "source": [
    "fig,axs = plt.subplots(1,3,figsize=(4,2))\n",
    "colors=['b','orange','g']\n",
    "titles=['sp','tp','fq']\n",
    "\n",
    "for kk in range(3):\n",
    "    data_to_plot= accs[kk,0,:].mean(axis=(-2,-1)).reshape([int(np.sqrt(accs.shape[2])),-1])\n",
    "    im=axs[kk].imshow(data_to_plot, vmin=0,vmax=1)\n",
    "    if kk==0:\n",
    "        axs[kk].set_xticks(np.arange(int(np.sqrt(accs.shape[2]))))\n",
    "        axs[kk].set_xticklabels(np.arange(int(np.sqrt(accs.shape[2])))+1)\n",
    "        axs[kk].set_yticks(np.arange(int(np.sqrt(accs.shape[2]))))\n",
    "        axs[kk].set_yticklabels(np.arange(int(np.sqrt(accs.shape[2])))+1)\n",
    "        axs[kk].set_ylabel('target session',labelpad=-1.5)#changed!!!!!\n",
    "        axs[kk].set_xlabel('source session',labelpad=-1.5)\n",
    "    else:\n",
    "        axs[kk].tick_params(\n",
    "            axis='y',          \n",
    "            which='both',     \n",
    "            bottom=False,     \n",
    "            left=False,        \n",
    "            labelleft=False) \n",
    "        axs[kk].tick_params(\n",
    "                    axis='x',         \n",
    "                    which='both',     \n",
    "                    bottom=False,     \n",
    "                    left=False,         \n",
    "                    labelbottom=False) \n",
    "    axs[kk].tick_params(axis='both', which='major', pad=-0.1)\n",
    "    axs[kk].set_title(titles[kk])\n",
    "    for i in range(int(np.sqrt(accs.shape[2]))):\n",
    "        for j in range(int(np.sqrt(accs.shape[2]))):\n",
    "            if data_to_plot[i, j]<=1/int(np.sqrt(accs.shape[2])):\n",
    "                text = axs[kk].text(j, i, '{:.2}'.format(data_to_plot[i, j]) ,\n",
    "                               ha=\"center\", va=\"center\", color=\"w\",size=8)\n",
    "            else:\n",
    "                text = axs[kk].text(j, i, '{:.2}'.format(data_to_plot[i, j]) ,\n",
    "               ha=\"center\", va=\"center\", color=\"k\",size=8)\n",
    "\n",
    "fig.subplots_adjust(wspace=0.05, hspace=0.35)\n",
    "                \n",
    "                \n",
    "\n",
    "cbar = fig.colorbar(im,ax=axs,fraction=0.015, pad=0.01)\n",
    "cbar.ax.set_title('id \\nacc')\n",
    "cbar.ax.tick_params(axis='both', which='major', pad=-0.1)\n",
    "\n"
   ]
  },
  {
   "cell_type": "code",
   "execution_count": 11,
   "metadata": {
    "scrolled": true
   },
   "outputs": [
    {
     "data": {
      "image/png": "[encoded data removed]",
      "text/plain": [
       "<Figure size 144x79.2 with 2 Axes>"
      ]
     },
     "metadata": {
      "needs_background": "light"
     },
     "output_type": "display_data"
    }
   ],
   "source": [
    "fig,axs = plt.subplots(1,2,figsize=(2,1.1))\n",
    "colors=['slateblue','orange','limegreen']\n",
    "titles=['id acc','rank acc']\n",
    "acc_combined = [np.take(accs, [i for i in range(accs.shape[2]) if np.mod(i,int(np.sqrt(accs.shape[2]))+1)!=0], axis=2)\n",
    ",np.take(accs_rank, [i for i in range(accs_rank.shape[2]) if np.mod(i,int(np.sqrt(accs_rank.shape[2]))+1)!=0], axis=2)\n",
    "]\n",
    "\n",
    "\n",
    "for kk in range(2):\n",
    "    data_to_plot= acc_combined[kk][:,0]\n",
    "    axs[kk].bar(np.arange(len(acc_combined[0])), data_to_plot.mean(axis=(-3,-2,-1)),yerr=[ss.sem(data_to_plot[i].reshape(-1)) for i in range(3)], capsize=0,color=colors)\n",
    "    if kk==0:\n",
    "        axs[kk].hlines(y=1/4, xmin=0-0.5, xmax=len(acc_combined[0])-1+0.5, linestyles='dashed', linewidth=1.5, label='random baseline', color='r')\n",
    "        axs[kk].set_ylabel('accuracy',labelpad=-7)\n",
    "    else: \n",
    "        axs[kk].hlines(y=(4+1)/(2*4), xmin=0-0.5, xmax=len(acc_combined[0])-1+0.5, linestyles='dashed', linewidth=1.5, label='random baseline', color='r')\n",
    "\n",
    "    axs[kk].set_ylim([0,1.05])\n",
    "    axs[kk].spines['right'].set_visible(False)\n",
    "    axs[kk].spines['top'].set_visible(False)\n",
    "    \n",
    "    if kk>0:\n",
    "        axs[kk].spines['bottom'].set_visible(False)\n",
    "        axs[kk].spines['left'].set_visible(False)       \n",
    "        axs[kk].tick_params(\n",
    "                axis='x',          # changes apply to the x-axis\n",
    "                which='both',      # both major and minor ticks are affected\n",
    "                bottom=False,      # ticks along the bottom edge are off\n",
    "                top=False,         # ticks along the top edge are off\n",
    "                labelbottom=False) # labels along the bottom edge are off\n",
    "        axs[kk].tick_params(\n",
    "            axis='y',          # changes apply to the x-axis\n",
    "            which='both',      # both major and minor ticks are affected\n",
    "            bottom=False,      # ticks along the bottom edge are off\n",
    "            top=False,         # ticks along the top edge are off\n",
    "            left=False,         # ticks along the top edge are off\n",
    "            labelleft=False) # labels along the bottom edge are off\n",
    "\n",
    "\n",
    "    if kk==0:\n",
    "        axs[kk].set_xticks(np.arange(3))\n",
    "        axs[kk].set_xticklabels(['sp','tp','fq'])\n",
    "    for jj in range(3):\n",
    "        axs[kk].text(-0.4+jj, 0.05, '{:.2}'.format(data_to_plot.mean(axis=(-3,-2,-1))[jj]),size=7)\n",
    "    axs[kk].tick_params(axis='both', which='major', pad=-0.1)\n",
    "    axs[kk].set_title(titles[kk])\n",
    "    \n",
    "fig.subplots_adjust(wspace=-0.05)"
   ]
  },
  {
   "cell_type": "code",
   "execution_count": 154,
   "metadata": {
    "scrolled": true
   },
   "outputs": [
    {
     "data": {
      "image/png": "[encoded data removed]",
      "text/plain": [
       "<Figure size 108x108 with 6 Axes>"
      ]
     },
     "metadata": {
      "needs_background": "light"
     },
     "output_type": "display_data"
    }
   ],
   "source": [
    "fig,axs = plt.subplots(6,1,figsize=(1.5,1.5))\n",
    "\n",
    "colors=['slateblue','orange','limegreen']\n",
    "titles=['sp','tp','fq']\n",
    "acc_combined = [np.take(accs, [i for i in range(accs.shape[2]) if np.mod(i,int(np.sqrt(accs.shape[2]))+1)!=0], axis=2)\n",
    ",np.take(accs_rank, [i for i in range(accs_rank.shape[2]) if np.mod(i,int(np.sqrt(accs_rank.shape[2]))+1)!=0], axis=2)\n",
    "]\n",
    "random_baselines = [1/4,(4+1)/(2*4)]\n",
    "\n",
    "cnt = 0\n",
    "for aid in range(2):\n",
    "    for kk in range(3):\n",
    "        data_to_plot= acc_combined[aid][kk,0]\n",
    "        axs[cnt].bar(np.arange(acc_combined[aid][kk,0].shape[-1]), data_to_plot.mean(axis=(0,1)),yerr=[ss.sem(data_to_plot[:,:,i].reshape(-1)) for i in range(data_to_plot.shape[-1])], capsize=0,color=colors[kk])\n",
    "        axs[cnt].hlines(y=random_baselines[aid], xmin=0-0.5, xmax=acc_combined[aid][kk,0].shape[-1]-1+0.5, linestyles='dashed', linewidth=1, label='random baseline', color='r')\n",
    "        axs[cnt].set_ylim([0,1.05])\n",
    "        axs[cnt].spines['left'].set_visible(False)\n",
    "        axs[cnt].spines['top'].set_visible(False)\n",
    "        axs[cnt].yaxis.tick_right()\n",
    "        if cnt<5:\n",
    "            axs[cnt].tick_params(\n",
    "                    axis='x',          # changes apply to the x-axis\n",
    "                    which='both',      # both major and minor ticks are affected\n",
    "                    bottom=False,      # ticks along the bottom edge are off\n",
    "                    top=False,         # ticks along the top edge are off\n",
    "                    labelbottom=False) # labels along the bottom edge are off\n",
    "        if cnt>0:\n",
    "            axs[cnt].tick_params(\n",
    "                    axis='y',          # changes apply to the x-axis\n",
    "                    which='both',      # both major and minor ticks are affected\n",
    "                    right=False,      # ticks along the bottom edge are off\n",
    "                    bottom=False,          # ticks along the top edge are off\n",
    "                    labelright=False) # labels along the bottom edge are off\n",
    "\n",
    "        if cnt==1:\n",
    "            axs[cnt].set_ylabel('id acc',labelpad=0)\n",
    "        if cnt==4:\n",
    "            axs[cnt].set_ylabel('rank acc',labelpad=0)\n",
    "            \n",
    "        if cnt==5:\n",
    "            axs[cnt].set_xticks(np.arange(acc_combined[aid][kk,0].shape[-1]))\n",
    "            axs[cnt].set_xticklabels(np.arange(acc_combined[aid][kk,0].shape[-1])+1)\n",
    "            axs[cnt].set_xlabel('subject ID',labelpad=-1)\n",
    "        axs[cnt].tick_params(axis='both', which='major', pad=-0.1)\n",
    "        cnt=cnt+1\n",
    "fig.subplots_adjust(hspace=0.7)"
   ]
  },
  {
   "cell_type": "markdown",
   "metadata": {},
   "source": [
    "# HCP (Figure 5)"
   ]
  },
  {
   "cell_type": "code",
   "execution_count": null,
   "metadata": {
    "scrolled": true
   },
   "outputs": [],
   "source": [
    "#loading HP features in chunks due to memory limitation\n",
    "for fold in [6]:\n",
    "    feature1 = []\n",
    "    feature2 = []\n",
    "    feature3 = []\n",
    "    postfix=['postfix1','postfix2']\n",
    "    for session in [1,2]:\n",
    "        tmp1 = []\n",
    "        tmp2 = []\n",
    "        tmp3 = []\n",
    "        for ids in range(77):\n",
    "            if session ==1:\n",
    "                loadname = './resting_state/'+str(common_ids[ids])+'/MEG/Restin/rmegpreproc/'+str(common_ids[ids])+'_feature_'+postfix[0]+'.mat'\n",
    "                data = sio.loadmat(loadname)\n",
    "                tmp1.append(data['feature1'][25*fold:25*fold+25])\n",
    "                tmp2.append(data['feature2'][25*fold:25*fold+25])\n",
    "                tmp3.append(data['feature3'][25*fold:25*fold+25])\n",
    "\n",
    "                print(ids)\n",
    "            else:\n",
    "                loadname = './working_memory/'+str(common_ids[ids])+'/MEG/Wrkmem/tmegpreproc/'+str(common_ids[ids])+'_TIM_feature_'+postfix[1]+'.mat'\n",
    "                data = sio.loadmat(loadname)\n",
    "                tmp1.append(data['feature1'][25*fold:25*fold+25])\n",
    "                tmp2.append(data['feature2'][25*fold:25*fold+25])\n",
    "                tmp3.append(data['feature3'][25*fold:25*fold+25])\n",
    "                print(ids)\n",
    "        feature1.append(tmp1)\n",
    "        feature2.append(tmp2)\n",
    "        feature3.append(tmp3)\n",
    "\n",
    "    del(tmp1,tmp2,tmp3)\n",
    "\n",
    "    feature1=np.array(feature1)\n",
    "    feature2=np.array(feature2)\n",
    "    feature3=np.array(feature3)\n",
    "    features = [feature1,feature2,feature3]\n",
    "    del(feature1,feature2,feature3)\n",
    "    accs=np.array([get_acc_results(features[i], 25,True) for i in range(3)]  )\n",
    "    accs_rank=np.array([get_acc_results(features[i],25,False) for i in range(3)])\n"
   ]
  },
  {
   "cell_type": "code",
   "execution_count": 163,
   "metadata": {
    "scrolled": true
   },
   "outputs": [
    {
     "data": {
      "image/png": "[encoded data removed]",
      "text/plain": [
       "<Figure size 243.362x120.163 with 4 Axes>"
      ]
     },
     "metadata": {
      "needs_background": "light"
     },
     "output_type": "display_data"
    }
   ],
   "source": [
    "\n",
    "fig,axs = plt.subplots(1,3,figsize=(3,2))\n",
    "colors=['b','orange','g']\n",
    "titles=['sp','tp','fq']\n",
    "\n",
    "for kk in range(3):\n",
    "    data_to_plot= accs[kk,0,:].mean(axis=(-2,-1)).reshape([int(np.sqrt(accs.shape[2])),-1])\n",
    "    im=axs[kk].imshow(data_to_plot, vmin=0,vmax=1)\n",
    "    if kk==0:\n",
    "        axs[kk].set_xticks(np.arange(int(np.sqrt(accs.shape[2]))))\n",
    "        axs[kk].set_xticklabels(['resting', 'WM'])\n",
    "        axs[kk].set_yticks(np.arange(int(np.sqrt(accs.shape[2]))))\n",
    "        axs[kk].set_yticklabels(['resting', 'WM'])\n",
    "        axs[kk].set_ylabel('target session',labelpad=2)#changed!!!!!\n",
    "        axs[kk].set_xlabel('source session',labelpad=-1)\n",
    "    else:\n",
    "        axs[kk].tick_params(\n",
    "            axis='y',          # changes apply to the x-axis\n",
    "            which='both',      # both major and minor ticks are affected\n",
    "            bottom=False,      # ticks along the bottom edge are off\n",
    "            left=False,         # ticks along the top edge are off\n",
    "            labelleft=False) # labels along the bottom edge are off\n",
    "        axs[kk].tick_params(\n",
    "                    axis='x',          # changes apply to the x-axis\n",
    "                    which='both',      # both major and minor ticks are affected\n",
    "                    bottom=False,      # ticks along the bottom edge are off\n",
    "                    left=False,         # ticks along the top edge are off\n",
    "                    labelbottom=False) # labels along the bottom edge are off \n",
    "    axs[kk].tick_params(axis='both', which='major', pad=3)\n",
    "    axs[kk].set_title(titles[kk])\n",
    "    for i in range(int(np.sqrt(accs.shape[2]))):\n",
    "        for j in range(int(np.sqrt(accs.shape[2]))):\n",
    "            if data_to_plot[i, j]<=1/int(np.sqrt(accs.shape[2])):\n",
    "                text = axs[kk].text(j, i, '{:.2}'.format(data_to_plot[i, j]) ,\n",
    "                               ha=\"center\", va=\"center\", color=\"w\",size=8)\n",
    "            else:\n",
    "                text = axs[kk].text(j, i, '{:.2}'.format(data_to_plot[i, j]) ,\n",
    "               ha=\"center\", va=\"center\", color=\"k\",size=8)\n",
    "\n",
    "fig.subplots_adjust(wspace=0.05, hspace=0.35)\n",
    "                \n",
    "                \n",
    "\n",
    "cbar = fig.colorbar(im,ax=axs,fraction=0.015, pad=0.01)\n",
    "cbar.ax.set_title('id \\nacc')\n",
    "cbar.ax.tick_params(axis='both', which='major', pad=-0.5)\n"
   ]
  },
  {
   "cell_type": "code",
   "execution_count": 168,
   "metadata": {
    "scrolled": true
   },
   "outputs": [
    {
     "data": {
      "image/png": "[encoded data removed]",
      "text/plain": [
       "<Figure size 144x79.2 with 2 Axes>"
      ]
     },
     "metadata": {
      "needs_background": "light"
     },
     "output_type": "display_data"
    }
   ],
   "source": [
    "fig,axs = plt.subplots(1,2,figsize=(2,1.1))\n",
    "colors=['slateblue','orange','limegreen']\n",
    "titles=['id acc','rank acc']\n",
    "acc_combined = [np.take(accs, [i for i in range(accs.shape[2]) if np.mod(i,int(np.sqrt(accs.shape[2]))+1)!=0], axis=2)\n",
    ",np.take(accs_rank, [i for i in range(accs_rank.shape[2]) if np.mod(i,int(np.sqrt(accs_rank.shape[2]))+1)!=0], axis=2)\n",
    "]\n",
    "\n",
    "\n",
    "for kk in range(2):\n",
    "    data_to_plot= acc_combined[kk][:,0]\n",
    "    axs[kk].bar(np.arange(len(acc_combined[0])), data_to_plot.mean(axis=(-3,-2,-1)),yerr=[ss.sem(data_to_plot[i].reshape(-1)) for i in range(3)], capsize=0,color=colors)\n",
    "    if kk==0:\n",
    "        axs[kk].hlines(y=1/77, xmin=0-0.5, xmax=len(acc_combined[0])-1+0.5, linestyles='dashed', linewidth=1.5, label='random baseline', color='r')\n",
    "        axs[kk].set_ylabel('accuracy',labelpad=-7)\n",
    "    else: \n",
    "        axs[kk].hlines(y=(77+1)/(2*77), xmin=0-0.5, xmax=len(acc_combined[0])-1+0.5, linestyles='dashed', linewidth=1.5, label='random baseline', color='r')\n",
    "\n",
    "    axs[kk].set_ylim([0,1.1])\n",
    "    axs[kk].spines['right'].set_visible(False)\n",
    "    axs[kk].spines['top'].set_visible(False)\n",
    "    \n",
    "    if kk>0:\n",
    "        axs[kk].spines['bottom'].set_visible(False)\n",
    "        axs[kk].spines['left'].set_visible(False)       \n",
    "        axs[kk].tick_params(\n",
    "                axis='x',          # changes apply to the x-axis\n",
    "                which='both',      # both major and minor ticks are affected\n",
    "                bottom=False,      # ticks along the bottom edge are off\n",
    "                top=False,         # ticks along the top edge are off\n",
    "                labelbottom=False) # labels along the bottom edge are off\n",
    "        axs[kk].tick_params(\n",
    "            axis='y',          # changes apply to the x-axis\n",
    "            which='both',      # both major and minor ticks are affected\n",
    "            bottom=False,      # ticks along the bottom edge are off\n",
    "            top=False,         # ticks along the top edge are off\n",
    "            left=False,         # ticks along the top edge are off\n",
    "            labelleft=False) # labels along the bottom edge are off\n",
    "\n",
    "    if kk==0:\n",
    "        axs[kk].set_xticks(np.arange(3))\n",
    "        axs[kk].set_xticklabels(['sp','tp','fq'])\n",
    "    for jj in range(3):\n",
    "        axs[kk].text(-0.4+jj, 0.05, '{:.2}'.format(data_to_plot.mean(axis=(-3,-2,-1))[jj]),size=7)\n",
    "    axs[kk].tick_params(axis='both', which='major', pad=-0.5)\n",
    "    axs[kk].set_title(titles[kk])\n",
    "\n",
    "    \n",
    "fig.subplots_adjust(wspace=-0.05)\n"
   ]
  },
  {
   "cell_type": "code",
   "execution_count": 4,
   "metadata": {
    "scrolled": false
   },
   "outputs": [
    {
     "data": {
      "image/png": "[encoded data removed]",
      "text/plain": [
       "<Figure size 108x108 with 6 Axes>"
      ]
     },
     "metadata": {
      "needs_background": "light"
     },
     "output_type": "display_data"
    }
   ],
   "source": [
    "fig,axs = plt.subplots(6,1,figsize=(1.5,1.5))\n",
    "\n",
    "colors=['slateblue','orange','limegreen']\n",
    "titles=['sp','tp','fq']\n",
    "acc_combined = [np.take(accs, [i for i in range(accs.shape[2]) if np.mod(i,int(np.sqrt(accs.shape[2]))+1)!=0], axis=2)\n",
    ",np.take(accs_rank, [i for i in range(accs_rank.shape[2]) if np.mod(i,int(np.sqrt(accs_rank.shape[2]))+1)!=0], axis=2)\n",
    "]\n",
    "random_baselines = [1/77,(77+1)/(2*77)]\n",
    "\n",
    "cnt = 0\n",
    "for aid in range(2):\n",
    "    for kk in range(3):\n",
    "        data_to_plot= acc_combined[aid][kk,0]\n",
    "        axs[cnt].bar(np.arange(acc_combined[aid][kk,0].shape[-1]), data_to_plot.mean(axis=(0,1)),yerr=[ss.sem(data_to_plot[:,:,i].reshape(-1)) for i in range(data_to_plot.shape[-1])],error_kw=dict(lw=0.25, capsize=0),color=colors[kk])\n",
    "        axs[cnt].hlines(y=random_baselines[aid], xmin=0-0.5, xmax=acc_combined[aid][kk,0].shape[-1]-1+0.5, linestyles='dashed', linewidth=0.5, label='random baseline', color='r')\n",
    "        axs[cnt].set_ylim([-0.05,1.05])\n",
    "        axs[cnt].spines['left'].set_visible(False)\n",
    "        axs[cnt].spines['top'].set_visible(False)\n",
    "        axs[cnt].yaxis.tick_right()\n",
    "        axs[cnt].tick_params(\n",
    "                axis='x',          # changes apply to the x-axis\n",
    "                which='both',      # both major and minor ticks are affected\n",
    "                bottom=False,      # ticks along the bottom edge are off\n",
    "                top=False,         # ticks along the top edge are off\n",
    "                labelbottom=False) # labels along the bottom edge are off\n",
    "        if cnt>0:\n",
    "            axs[cnt].tick_params(\n",
    "                    axis='y',          # changes apply to the x-axis\n",
    "                    which='both',      # both major and minor ticks are affected\n",
    "                    right=False,      # ticks along the bottom edge are off\n",
    "                    bottom=False,          # ticks along the top edge are off\n",
    "                    labelright=False) # labels along the bottom edge are off\n",
    "\n",
    "        if cnt==1:\n",
    "            axs[cnt].set_ylabel('id acc',labelpad=0)\n",
    "        if cnt==4:\n",
    "            axs[cnt].set_ylabel('rank acc',labelpad=0)\n",
    "            \n",
    "        if cnt==5:\n",
    "            axs[cnt].set_xticks(np.arange(acc_combined[aid][kk,0].shape[-1]))\n",
    "            axs[cnt].set_xticklabels(np.arange(acc_combined[aid][kk,0].shape[-1])+1)\n",
    "            axs[cnt].set_xlabel('subject ID',labelpad=1)\n",
    "        axs[cnt].tick_params(axis='both', which='major', pad=-0.1)\n",
    "        cnt=cnt+1\n",
    "    \n",
    "fig.subplots_adjust(hspace=0.7)"
   ]
  },
  {
   "cell_type": "markdown",
   "metadata": {},
   "source": [
    "# MEG-EEG (Figure 6)"
   ]
  },
  {
   "cell_type": "code",
   "execution_count": 14,
   "metadata": {},
   "outputs": [],
   "source": [
    "savename='meg-eeg-features'\n",
    "data = sio.loadmat(savename)\n",
    "eeg_tp=data['eeg_tp']\n",
    "eeg_fq=data['eeg_fq']\n",
    "meg_tp=data['meg_tp']\n",
    "meg_fq=data['meg_fq']\n",
    "\n",
    "feature_tp = np.row_stack((meg_tp,eeg_tp))\n",
    "feature_fq = np.row_stack((meg_fq,eeg_fq))\n",
    "features = [feature_tp,feature_fq]\n",
    "\n",
    "accs=[get_acc_results(features[i], n_train_rep,False, False)[0] for i in range(2)]  \n",
    "accs=np.array(accs)\n",
    "\n",
    "accs_rank=[get_acc_results(features[i], n_train_rep,False,True)[0] for i in range(2)]  \n",
    "accs_rank=np.array(accs_rank)"
   ]
  },
  {
   "cell_type": "code",
   "execution_count": 22,
   "metadata": {},
   "outputs": [],
   "source": [
    "data_to_plot = np.zeros([2,2,2]) #feature, first row, second row\n",
    "for i in range(2):\n",
    "    cnt = 0\n",
    "    for j,k in [[0,1],[1,0]]:\n",
    "        data_to_plot[i,j,k] = np.mean(accs[i][0,cnt+1])\n",
    "        cnt+=1"
   ]
  },
  {
   "cell_type": "code",
   "execution_count": 24,
   "metadata": {
    "scrolled": true
   },
   "outputs": [
    {
     "data": {
      "image/png": "[encoded data removed]",
      "text/plain": [
       "<Figure size 208.828x119.64 with 3 Axes>"
      ]
     },
     "metadata": {
      "needs_background": "light"
     },
     "output_type": "display_data"
    }
   ],
   "source": [
    "fig,axs = plt.subplots(1,2,figsize=(2.5,2))\n",
    "colors=['orange','g']\n",
    "titles=['tp','fq']\n",
    "\n",
    "for kk in range(2):\n",
    "    im=axs[kk].imshow(data_to_plot[kk], vmin=0,vmax=1)\n",
    "    if kk==0:\n",
    "        axs[kk].set_xticks(np.arange(2))\n",
    "        axs[kk].set_xticklabels(['MEG', 'EEG'])\n",
    "        axs[kk].set_yticks(np.arange(2))\n",
    "        axs[kk].set_yticklabels(['MEG', 'EEG'])\n",
    "        axs[kk].set_xlabel('target session',labelpad=2)\n",
    "        axs[kk].set_ylabel('source session',labelpad=-1)\n",
    "    else:\n",
    "        axs[kk].tick_params(\n",
    "            axis='y',          # changes apply to the x-axis\n",
    "            which='both',      # both major and minor ticks are affected\n",
    "            bottom=False,      # ticks along the bottom edge are off\n",
    "            left=False,         # ticks along the top edge are off\n",
    "            labelleft=False) # labels along the bottom edge are off\n",
    "        axs[kk].tick_params(\n",
    "                    axis='x',          # changes apply to the x-axis\n",
    "                    which='both',      # both major and minor ticks are affected\n",
    "                    bottom=False,      # ticks along the bottom edge are off\n",
    "                    left=False,         # ticks along the top edge are off\n",
    "                    labelbottom=False) # labels along the bottom edge are off \n",
    "    axs[kk].tick_params(axis='both', which='major', pad=3)\n",
    "    axs[kk].set_title(titles[kk])\n",
    "    for i in range(2):\n",
    "        for j in range(2):\n",
    "            if data_to_plot[kk][i, j]<=1/2:\n",
    "                text = axs[kk].text(j, i, '{:.2}'.format(data_to_plot[kk][i, j]) ,\n",
    "                               ha=\"center\", va=\"center\", color=\"w\",size=8)\n",
    "            else:\n",
    "                text = axs[kk].text(j, i, '{:.2}'.format(data_to_plot[kk][i, j]) ,\n",
    "               ha=\"center\", va=\"center\", color=\"k\",size=8)\n",
    "\n",
    "fig.subplots_adjust(wspace=0.05, hspace=0.35)\n",
    "                \n",
    "                \n",
    "\n",
    "cbar = fig.colorbar(im,ax=axs,fraction=0.015, pad=.1)\n",
    "cbar.ax.set_title('id \\nacc')\n",
    "cbar.ax.tick_params(axis='both', which='major', pad=.1)\n"
   ]
  },
  {
   "cell_type": "code",
   "execution_count": 32,
   "metadata": {},
   "outputs": [],
   "source": [
    "acc_combined = [accs,accs_rank]\n",
    "data_to_plot_means = np.zeros([2,2]) #acc_type, feature\n",
    "data_to_plot_sem = np.zeros([2,2]) \n",
    "\n",
    "for i in range(2):\n",
    "    for j in range(2):\n",
    "        data_to_plot_means[i,j] = np.mean([acc_combined[i][j][0,1],acc_combined[i][j][0,2]])\n",
    "        data_to_plot_sem[i,j] = ss.sem(np.array([acc_combined[i][j][0,1],acc_combined[i][j][0,2]]).reshape(-1))\n"
   ]
  },
  {
   "cell_type": "code",
   "execution_count": 36,
   "metadata": {
    "scrolled": true
   },
   "outputs": [
    {
     "data": {
      "image/png": "[encoded data removed]",
      "text/plain": [
       "<Figure size 122.4x79.2 with 2 Axes>"
      ]
     },
     "metadata": {
      "needs_background": "light"
     },
     "output_type": "display_data"
    }
   ],
   "source": [
    "fig,axs = plt.subplots(1,2,figsize=(1.7,1.1))\n",
    "colors=['orange','limegreen']\n",
    "titles=['id acc','rank acc']\n",
    "\n",
    "\n",
    "for kk in range(2):\n",
    "    data_to_plot= acc_combined[kk][:,0]\n",
    "    axs[kk].bar(np.arange(2), data_to_plot_means[kk],yerr=data_to_plot_sem[kk], capsize=0,color=colors)\n",
    "    if kk==0:\n",
    "        axs[kk].hlines(y=1/15, xmin=0-0.5, xmax=2, linestyles='dashed', linewidth=1.5, label='random baseline', color='r')\n",
    "        axs[kk].set_ylabel('accuracy',labelpad=-7)\n",
    "    else: \n",
    "        axs[kk].hlines(y=(15+1)/(2*15), xmin=0-0.5, xmax=2, linestyles='dashed', linewidth=1.5, label='random baseline', color='r')\n",
    "\n",
    "    axs[kk].set_ylim([0,1.1])\n",
    "    axs[kk].spines['right'].set_visible(False)\n",
    "    axs[kk].spines['top'].set_visible(False)\n",
    "    \n",
    "    if kk>0:\n",
    "        axs[kk].spines['bottom'].set_visible(False)\n",
    "        axs[kk].spines['left'].set_visible(False)       \n",
    "        axs[kk].tick_params(\n",
    "                axis='x',          # changes apply to the x-axis\n",
    "                which='both',      # both major and minor ticks are affected\n",
    "                bottom=False,      # ticks along the bottom edge are off\n",
    "                top=False,         # ticks along the top edge are off\n",
    "                labelbottom=False) # labels along the bottom edge are off\n",
    "        axs[kk].tick_params(\n",
    "            axis='y',          # changes apply to the x-axis\n",
    "            which='both',      # both major and minor ticks are affected\n",
    "            bottom=False,      # ticks along the bottom edge are off\n",
    "            top=False,         # ticks along the top edge are off\n",
    "            left=False,         # ticks along the top edge are off\n",
    "            labelleft=False) # labels along the bottom edge are off\n",
    "\n",
    "    if kk==0:\n",
    "        axs[kk].set_xticks(np.arange(2))\n",
    "        axs[kk].set_xticklabels(['tp','fq'])\n",
    "    for jj in range(2):\n",
    "        axs[kk].text(-0.4+jj, 0.05, '{:.2}'.format(data_to_plot_means[kk,jj]),size=7)\n",
    "    axs[kk].tick_params(axis='both', which='major', pad=-0.5)\n",
    "    axs[kk].set_title(titles[kk])\n",
    "    \n",
    "fig.subplots_adjust(wspace=-0.05)"
   ]
  },
  {
   "cell_type": "code",
   "execution_count": 38,
   "metadata": {},
   "outputs": [],
   "source": [
    "acc_combined = [accs,accs_rank]\n",
    "data_to_plot_means = np.zeros([2,2,15]) #acc_type, feature,individual\n",
    "data_to_plot_sem = np.zeros([2,2,15]) \n",
    "\n",
    "for i in range(2):\n",
    "    for j in range(2):\n",
    "        data_to_plot_means[i,j] = np.array([acc_combined[i][j][0,1],acc_combined[i][j][0,2]]).mean(axis=(0,1))\n",
    "        data_to_plot_sem[i,j] = ss.sem(np.array([acc_combined[i][j][0,1],acc_combined[i][j][0,2]]).reshape([-1,15]))\n"
   ]
  },
  {
   "cell_type": "code",
   "execution_count": 41,
   "metadata": {
    "scrolled": true
   },
   "outputs": [
    {
     "data": {
      "image/png": "[encoded data removed]",
      "text/plain": [
       "<Figure size 108x108 with 4 Axes>"
      ]
     },
     "metadata": {
      "needs_background": "light"
     },
     "output_type": "display_data"
    }
   ],
   "source": [
    "fig,axs = plt.subplots(4,1,figsize=(1.5,1.5))\n",
    "colors=['orange','limegreen']\n",
    "titles=['tp','fq']\n",
    "random_baselines = [1/15,(15+1)/(2*15)]\n",
    "\n",
    "cnt = 0\n",
    "for aid in range(2):\n",
    "    for kk in range(2):\n",
    "\n",
    "        axs[cnt].bar(np.arange(15),data_to_plot_means[aid][kk],yerr=data_to_plot_sem[aid][kk],error_kw=dict(lw=0.25, capsize=0),color=colors[kk])\n",
    "        axs[cnt].hlines(y=random_baselines[aid], xmin=0-0.5, xmax=15-1+0.5, linestyles='dashed', linewidth=0.5, label='random baseline', color='r')\n",
    "        axs[cnt].set_ylim([-0.05,1.05])\n",
    "        axs[cnt].spines['left'].set_visible(False)\n",
    "        axs[cnt].spines['top'].set_visible(False)\n",
    "        axs[cnt].yaxis.tick_right()\n",
    "        if cnt < 3:\n",
    "            axs[cnt].tick_params(\n",
    "                    axis='x',          # changes apply to the x-axis\n",
    "                    which='both',      # both major and minor ticks are affected\n",
    "                    bottom=False,      # ticks along the bottom edge are off\n",
    "                    top=False,         # ticks along the top edge are off\n",
    "                    labelbottom=False) # labels along the bottom edge are off\n",
    "        if cnt>0:\n",
    "            axs[cnt].tick_params(\n",
    "                    axis='y',          # changes apply to the x-axis\n",
    "                    which='both',      # both major and minor ticks are affected\n",
    "                    right=False,      # ticks along the bottom edge are off\n",
    "                    bottom=False,          # ticks along the top edge are off\n",
    "                    labelright=False) # labels along the bottom edge are off\n",
    "\n",
    "        if cnt==1:\n",
    "            axs[cnt].set_ylabel('id acc',labelpad=0)\n",
    "        if cnt==3:\n",
    "            axs[cnt].set_ylabel('rank acc',labelpad=0)\n",
    "            \n",
    "        if cnt==3:\n",
    "            axs[cnt].set_xticks(np.arange(15))\n",
    "            axs[cnt].set_xticklabels(np.arange(15)+1,fontsize = 5,rotation = 30 )\n",
    "            axs[cnt].set_xlabel('subject ID',labelpad=1)\n",
    "        axs[cnt].tick_params(axis='both', which='major', pad=-0.1)\n",
    "        cnt=cnt+1\n",
    "    \n",
    "fig.subplots_adjust(hspace=0.7)\n"
   ]
  },
  {
   "cell_type": "markdown",
   "metadata": {},
   "source": [
    "# Feature importance (Figure 7)"
   ]
  },
  {
   "cell_type": "code",
   "execution_count": null,
   "metadata": {},
   "outputs": [],
   "source": [
    "n_train_rep=100\n",
    "features1=[]\n",
    "features2=[]\n",
    "features3=[]\n",
    "root_dir = \"root_dir\";\n",
    "subj_names = ['AT','DR','JG','JK']\n",
    "\n",
    "#[nsessions nsubjects ntrainsizes nrep_per_trainsize]\n",
    "for session in [1,2,3,4]:\n",
    "    tmp1 = []\n",
    "    tmp2 = []\n",
    "    tmp3 = []\n",
    "\n",
    "    for subj in subj_names:\n",
    "        names = glob.glob(root_dir+subj+'/session'+str(session)+'/fst_b*.fif')\n",
    "        fname=names[-1]     \n",
    "        data = sio.loadmat(fname[:-6]+'feature_sst_empty_filter_ecg_eog.mat')\n",
    "        feature1 = data['feature1']\n",
    "        feature2 = data['feature2']\n",
    "        feature3 = data['feature3']\n",
    "        tmp1.append(feature1)\n",
    "        tmp2.append(feature2)\n",
    "        tmp3.append(feature3)\n",
    "\n",
    "    features1.append(tmp1)\n",
    "    features2.append(tmp2)\n",
    "    features3.append(tmp3)\n",
    "\n",
    "feature1=np.array(features1)\n",
    "feature2=np.array(features2)\n",
    "feature3=np.array(features3)\n",
    "\n",
    "feature1=feature1[:,:,-n_train_rep:]\n",
    "feature2=feature2[:,:,-n_train_rep:]\n",
    "feature3=feature3[:,:,-n_train_rep:]\n"
   ]
  },
  {
   "cell_type": "code",
   "execution_count": null,
   "metadata": {},
   "outputs": [],
   "source": [
    "\n",
    "fs = np.array([  0.,   2.,   4.,   6.,   8.,  10.,  12.,  14.,  16.,  18.,  20.,\n",
    "        22.,  24.,  26.,  28.,  30.,  32.,  34.,  36.,  38.,  40.,  42.,\n",
    "        44.,  46.,  48.,  50.,  52.,  54.,  56.,  58.,  60.,  62.,  64.,\n",
    "        66.,  68.,  70.,  72.,  74.,  76.,  78.,  80.,  82.,  84.,  86.,\n",
    "        88.,  90.,  92.,  94.,  96.,  98., 100.])\n",
    "fs =fs[:-1]\n",
    "\n",
    "subfeature3 = [feature3[:,:,:,0:3],feature3[:,:,:,3:5],feature3[:,:,:,5:8],feature3[:,:,:,8:17],feature3[:,:,:,17:]]\n",
    "\n",
    "accs3=np.array([get_acc_results(subfeature3[i], 100,True)[0] for i in range(len(subfeature3))]) \n",
    "accs3=np.take(accs3, [i for i in range(accs3.shape[2]) if np.mod(i,int(np.sqrt(accs3.shape[2]))+1)!=0], axis=2)\n",
    "accs3=np.squeeze(accs3)\n",
    "accs3.shape\n"
   ]
  },
  {
   "cell_type": "code",
   "execution_count": 49,
   "metadata": {},
   "outputs": [
    {
     "data": {
      "image/png": "[encoded data removed]",
      "text/plain": [
       "<Figure size 432x108 with 2 Axes>"
      ]
     },
     "metadata": {
      "needs_background": "light"
     },
     "output_type": "display_data"
    }
   ],
   "source": [
    "fig, axs = plt.subplots(1,2,figsize=(6,1.5))\n",
    "fig.tight_layout()\n",
    "titles=['SEN','FST']\n",
    "accs = [sen_freq,fst_freq]\n",
    "for kk in range(2):\n",
    "    axs[kk].scatter(np.arange(5), accs[kk].mean(axis=(1,2,3)),c='k',s=3)\n",
    "    axs[kk].errorbar(np.arange(5), accs[kk].mean(axis=(1,2,3)), yerr=[ss.sem(accs[kk][i].reshape(-1)) for i in range(accs[kk].shape[0])], capsize=0,capthick=1.5,linewidth=1.5,elinewidth=0.5,c='k')\n",
    "    axs[kk].spines['right'].set_visible(False)\n",
    "    axs[kk].spines['top'].set_visible(False)\n",
    "    axs[kk].set_ylabel('id acc',labelpad=-1)\n",
    "    \n",
    "    if kk==10:\n",
    "        axs[kk].spines['bottom'].set_visible(False)\n",
    "        axs[kk].tick_params(\n",
    "            axis='x',          # changes apply to the x-axis\n",
    "            which='both',      # both major and minor ticks are affected\n",
    "            bottom=False,      # ticks along the bottom edge are off\n",
    "            left=False,         # ticks along the top edge are off\n",
    "            labelbottom=False) # labels along the bottom edge are off\n",
    "    else:\n",
    "        axs[kk].set_xlabel('f (Hz)')\n",
    "    axs[kk].tick_params(axis='both', which='major', pad=-0.5)\n",
    "\n",
    "    axs[kk].set_title(titles[kk],pad=0)\n",
    "    axs[kk].set_xticks(np.arange(5))\n",
    "    axs[kk].set_xticklabels(['Delta','Theta','Alpha','Beta','Gamma'],rotation=45)\n",
    "    axs[kk].set_ylim([0,1.1])\n",
    "        \n",
    "fig.subplots_adjust(hspace=0.15)\n"
   ]
  },
  {
   "cell_type": "code",
   "execution_count": null,
   "metadata": {},
   "outputs": [],
   "source": [
    "LT=np.array([1,7,10,13,16,163,22,19,172,166,175,178,169])\n",
    "RT=np.array([154,139,142,160,157,148,145,295,298,271,274,304,301])\n",
    "LP=np.array([37,40,67,46,43,73,199,202,82,181,208,205,223])\n",
    "RP=np.array([112,115,118,76,124,121,79,247,250,256,253,226,280])\n",
    "LF=np.array([52,49,55,88,25,58,61,4,34,28,31,70,64])\n",
    "RF=np.array([85,91,94,100,103,106,97,127,109,136,133,130,151])\n",
    "LO=np.array([184,190,211,220,232,187,193,214,235,196,217,244])\n",
    "RO=np.array([229,259,277,262,286,268,283,289,238,265,292,241])\n",
    "sensor_groups = list([LT,RT,LP,RP,LF,RF,LO,RO])\n",
    "\n",
    "subfeature1 = []\n",
    "for i in range(len(sensor_groups)):\n",
    "    for j in range(len(sensor_groups)):\n",
    "        inds1 = ((sensor_groups[i]-1)/3).astype('int')\n",
    "        inds2 = ((sensor_groups[j]-1)/3).astype('int')\n",
    "        tmp = feature1[:,:,:,inds1,:]\n",
    "        tmp=tmp[:,:,:,:,inds2]\n",
    "        subfeature1.append(tmp)\n",
    "\n",
    "\n",
    "accs1=np.array([get_acc_results(subfeature1[i], 100,True) for i in range(len(subfeature1))]) \n",
    "accs1=np.take(accs1, [i for i in range(accs1.shape[2]) if np.mod(i,int(np.sqrt(accs1.shape[2]))+1)!=0], axis=2)\n",
    "accs1=np.squeeze(accs1)\n",
    "accs1.shape\n",
    "\n",
    "time_groups = [np.arange(i*10,i*10+1*10) for i in range(10)]\n",
    "subfeature2 = []\n",
    "for i in range(len(time_groups)):\n",
    "    for j in range(len(time_groups)):\n",
    "        inds1 = time_groups[i].astype('int')\n",
    "        inds2 = time_groups[j].astype('int')\n",
    "        tmp = feature2[:,:,:,inds1,:]\n",
    "        tmp=tmp[:,:,:,:,inds2]\n",
    "        subfeature2.append(tmp)\n",
    "\n",
    "\n",
    "\n",
    "\n",
    "accs2=np.array([get_acc_results(subfeature2[i], 100,True) for i in range(len(subfeature2))]) \n",
    "accs2=np.take(accs2, [i for i in range(accs2.shape[2]) if np.mod(i,int(np.sqrt(accs2.shape[2]))+1)!=0], axis=2)\n",
    "accs2=np.squeeze(accs2)\n",
    "accs2.shape\n",
    "\n",
    "fs = np.array([  0.,   2.,   4.,   6.,   8.,  10.,  12.,  14.,  16.,  18.,  20.,\n",
    "        22.,  24.,  26.,  28.,  30.,  32.,  34.,  36.,  38.,  40.,  42.,\n",
    "        44.,  46.,  48.,  50.,  52.,  54.,  56.,  58.,  60.,  62.,  64.,\n",
    "        66.,  68.,  70.,  72.,  74.,  76.,  78.,  80.,  82.,  84.,  86.,\n",
    "        88.,  90.,  92.,  94.,  96.,  98., 100.])\n",
    "fs =fs[:-1]\n",
    "\n",
    "subfeature3 = [feature3[:,:,:,i:i+5] for i in range(feature3.shape[-1]-5)]\n",
    "\n",
    "\n",
    "accs3=np.array([get_acc_results(subfeature3[i], 100,True) for i in range(len(subfeature3))]) \n",
    "accs3=np.take(accs3, [i for i in range(accs3.shape[2]) if np.mod(i,int(np.sqrt(accs3.shape[2]))+1)!=0], axis=2)\n",
    "accs3=np.squeeze(accs3)\n",
    "accs3.shape\n"
   ]
  },
  {
   "cell_type": "code",
   "execution_count": 117,
   "metadata": {},
   "outputs": [],
   "source": [
    "filepath='data_path'\n",
    "data = sio.loadmat(filepath)\n",
    "accs1=data['accs1']\n",
    "accs2=data['accs2']\n",
    "accs3=data['accs3']\n"
   ]
  },
  {
   "cell_type": "code",
   "execution_count": 119,
   "metadata": {},
   "outputs": [
    {
     "data": {
      "image/png": "[encoded data removed]",
      "text/plain": [
       "<Figure size 216x216 with 1 Axes>"
      ]
     },
     "metadata": {},
     "output_type": "display_data"
    }
   ],
   "source": [
    "from matplotlib import cm as CM\n",
    "\n",
    "fig, axs = plt.subplots(1,1,figsize=(3,3))\n",
    "fig.tight_layout()\n",
    "\n",
    "labels = np.arange(10)*10\n",
    "\n",
    "cmap = CM.get_cmap('viridis')\n",
    "cmap.set_bad('w') \n",
    "\n",
    "\n",
    "data_to_plot=accs2.mean(axis=(1,2,3)).reshape(10,-1)\n",
    "for jj in range(10):\n",
    "    for kk in range(10):\n",
    "        if jj>kk:\n",
    "            data_to_plot[jj,kk]=0\n",
    "data_to_plot=np.ma.array(data_to_plot,mask=data_to_plot==0)\n",
    "         \n",
    "im = axs.imshow(data_to_plot,vmin=0,vmax=1,cmap=cmap)\n",
    "for i in range(10):\n",
    "    for j in range(10):\n",
    "        if i<=j:\n",
    "            text = axs.text(j, i, '{:.2}'.format(data_to_plot[i, j]) ,\n",
    "                               ha=\"center\", va=\"center\", color=\"k\",size=6.5)\n",
    "axs.spines['bottom'].set_visible(False)\n",
    "axs.spines['right'].set_visible(False)\n",
    "axs.spines['top'].set_visible(False)\n",
    "axs.spines['left'].set_visible(False)\n",
    "axs.tick_params(\n",
    "            axis='y',          # changes apply to the x-axis\n",
    "            which='both',      # both major and minor ticks are affected\n",
    "            bottom=False,      # ticks along the bottom edge are off\n",
    "            left=False,         # ticks along the top edge are off\n",
    "            labelleft=False) # labels along the bottom edge are off\n",
    "axs.tick_params(\n",
    "            axis='x',          # changes apply to the x-axis\n",
    "            which='both',      # both major and minor ticks are affected\n",
    "            bottom=False,      # ticks along the bottom edge are off\n",
    "            left=False,         # ticks along the top edge are off\n",
    "            labelbottom=False) # labels along the bottom edge are off   \n",
    "\n",
    "\n",
    "text = cbaxes.text(-1.1, 0.5, 'id acc' ,\n",
    "                               ha=\"center\", va=\"center\", color=\"k\",rotation=90)\n",
    "\n",
    "axs.set_xlabel('time point',labelpad=15)\n",
    "axs.xaxis.set_label_position('top') \n",
    "\n",
    "axs.set_ylabel('time point',labelpad=17)\n",
    "axs.yaxis.set_label_position('right') \n",
    "\n",
    "for i in range(10):\n",
    "    text = axs.text(i, -0.8, labels[i],\n",
    "                       ha=\"center\", va=\"center\", color=\"k\")\n",
    "    text = axs.text(10, i, labels[i],\n",
    "                           ha=\"center\", va=\"center\", color=\"k\")\n",
    "            "
   ]
  },
  {
   "cell_type": "markdown",
   "metadata": {},
   "source": [
    "# Trainsize and preprocessing (Figure 8)"
   ]
  },
  {
   "cell_type": "code",
   "execution_count": null,
   "metadata": {},
   "outputs": [],
   "source": [
    "filepath='datapath'\n",
    "data = sio.loadmat(filepath)\n",
    "accs = data['accs']\n",
    "print(accs.shape)\n",
    "data_to_plot_fst=np.take(accs, [i for i in range(accs.shape[2]) if np.mod(i,int(np.sqrt(accs.shape[2]))+1)!=0], axis=2)\n",
    "\n",
    "filepath='datapath'\n",
    "data = sio.loadmat(filepath)\n",
    "accs = data['accs']\n",
    "print(accs.shape)\n",
    "data_to_plot_sen=np.take(accs, [i for i in range(accs.shape[2]) if np.mod(i,int(np.sqrt(accs.shape[2]))+1)!=0], axis=2)\n",
    "\n",
    "filepath='datapath'\n",
    "data = sio.loadmat(filepath)\n",
    "accs = data['accs']\n",
    "print(accs.shape)\n",
    "data_to_plot_hcp=np.take(accs, [i for i in range(accs.shape[2]) if np.mod(i,int(np.sqrt(accs.shape[2]))+1)!=0], axis=2)\n",
    "\n",
    "data_to_plot=[data_to_plot_fst,data_to_plot_sen,data_to_plot_hcp]"
   ]
  },
  {
   "cell_type": "code",
   "execution_count": 117,
   "metadata": {},
   "outputs": [
    {
     "data": {
      "image/png": "[encoded data removed]",
      "text/plain": [
       "<Figure size 540x129.6 with 3 Axes>"
      ]
     },
     "metadata": {
      "needs_background": "light"
     },
     "output_type": "display_data"
    }
   ],
   "source": [
    "\n",
    "titles=['FST','SEN','HCP']\n",
    "feat_names=['sp','tp','fq']\n",
    "\n",
    "fig, axs = plt.subplots(1,3,figsize=(7.5,1.8))\n",
    "fig.tight_layout()\n",
    "colors=['slateblue','orange','limegreen']\n",
    "markers=['o', 'x',  'v']\n",
    "random_baseline = [1/4,1/4,1/77]\n",
    "for dt in range(3):\n",
    "    for kk in range(3):\n",
    "        axs[dt].scatter(np.arange(data_to_plot[dt].shape[1]), data_to_plot[dt][kk].mean(axis=(1,2,3)),marker=markers[kk],color=colors[kk],alpha=0.7, label=feat_names[kk])\n",
    "        axs[dt].errorbar(np.arange(data_to_plot[dt].shape[1]), data_to_plot[dt][kk].mean(axis=(1,2,3)), yerr=[ss.sem(data_to_plot[dt][kk].reshape([data_to_plot[dt][kk].shape[0],-1])[i]) for i in range(data_to_plot[dt][kk].shape[0])], capsize=0,capthick=1.5,linewidth=1.5,elinewidth=0.5,color=colors[kk])\n",
    "        axs[dt].hlines(y=random_baseline[dt], xmin=0-0.1, xmax=data_to_plot[dt][kk].shape[0]+0.1, linestyles='dashed', linewidth=1.5, color='r')\n",
    "        axs[dt].set_ylim([0,1.1])\n",
    "\n",
    "    axs[dt].spines['right'].set_visible(False)\n",
    "    axs[dt].spines['top'].set_visible(False)\n",
    "    if dt>0:\n",
    "        axs[dt].spines['left'].set_visible(False)\n",
    "        axs[dt].tick_params(axis='y',which='both',left=False,labelleft=False)\n",
    "    else:\n",
    "        axs[dt].set_ylabel('id acc',labelpad=-2.5)\n",
    "        axs[dt].set_xlabel('number of trials',labelpad=-1)\n",
    "    if dt <2:\n",
    "        axs[dt].set_xticks(np.arange(len([1,5,10,25,50,100,200,300])))\n",
    "        axs[dt].set_xticklabels([1,5,10,25,50,100,200,300],rotation=45)\n",
    "    else:\n",
    "        axs[dt].set_xticks(np.arange(len([1,5,10,25,50,100,200])))\n",
    "        axs[dt].set_xticklabels([1,5,10,25,50,100,200],rotation=45)\n",
    "        \n",
    "    axs[dt].tick_params(axis='both', which='major', pad=-0.5)\n",
    "\n",
    "    axs[dt].set_title(titles[dt])\n",
    "\n",
    "fig.subplots_adjust(wspace=0)\n",
    "axs[0].legend( bbox_to_anchor=(2.25, 1.45),ncol=3,labelspacing=3,frameon=True)    \n"
   ]
  },
  {
   "cell_type": "code",
   "execution_count": null,
   "metadata": {
    "scrolled": true
   },
   "outputs": [],
   "source": [
    "filepath='datapath'\n",
    "data = sio.loadmat(filepath)\n",
    "accs = data['accs']\n",
    "data_to_plot_fst_full=np.take(accs, [i for i in range(accs.shape[2]) if np.mod(i,int(np.sqrt(accs.shape[2]))+1)!=0], axis=2)\n",
    "data_to_plot_fst_full=data_to_plot_fst_full[:,-1]\n",
    "data_to_plot_fst_full=data_to_plot_fst_full.mean(axis = iii)\n",
    "data_to_plot_fst_full=data_to_plot_fst_full.reshape(3,-1)\n",
    "print(data_to_plot_fst_full.shape)\n",
    "\n",
    "\n",
    "filepath='datapath'\n",
    "data = sio.loadmat(filepath)\n",
    "accs = data['accs']\n",
    "data_to_plot_fst_raw=np.take(accs, [i for i in range(accs.shape[2]) if np.mod(i,int(np.sqrt(accs.shape[2]))+1)!=0], axis=2)\n",
    "data_to_plot_fst_raw=data_to_plot_fst_raw[:,-1]\n",
    "data_to_plot_fst_raw=data_to_plot_fst_raw.mean(axis = iii)\n",
    "data_to_plot_fst_raw=data_to_plot_fst_raw.reshape(3,-1)\n",
    "print(data_to_plot_fst_raw.shape)\n",
    "\n",
    "data_to_plot = [data_to_plot_fst_raw,data_to_plot_fst_full,data_to_plot_sen_raw,data_to_plot_sen_full]\n"
   ]
  },
  {
   "cell_type": "code",
   "execution_count": 138,
   "metadata": {},
   "outputs": [
    {
     "data": {
      "image/png": "[encoded data removed]",
      "text/plain": [
       "<Figure size 180x144 with 6 Axes>"
      ]
     },
     "metadata": {
      "needs_background": "light"
     },
     "output_type": "display_data"
    }
   ],
   "source": [
    "\n",
    "fig,axs = plt.subplots(3,2,figsize=(2.5,2*1))\n",
    "\n",
    "colors=['slateblue','orange','limegreen']\n",
    "titles=['FST','SEN']\n",
    "feat_names=['sp','tp','fq']\n",
    "\n",
    "for kk in range(2):\n",
    "    for jj in range(3):\n",
    "        \n",
    "        draw = data_to_plot[kk*2][jj]\n",
    "        dfull = data_to_plot[kk*2+1][jj]\n",
    "        \n",
    "        y_mean = [draw.mean(),dfull.mean()]\n",
    "        y_std = [draw.std(),dfull.std()]\n",
    "        y_SE = [ss.sem(draw),ss.sem(dfull)]\n",
    "\n",
    "        [nothing,p_val]=ss.ttest_ind(draw,dfull)\n",
    "        if p_val<0.001:\n",
    "            p_string = 'p<0.001'\n",
    "        else:\n",
    "            p_string = 'p={:.2}'.format(p_val)\n",
    "        \n",
    "        axs[jj,kk].bar([0,1], y_mean,yerr=y_SE,error_kw=dict(lw=0.5, capsize=0),color=colors[jj],label=feat_names[jj], alpha = 0.7)\n",
    "        \n",
    "        axs[jj,kk].set_ylim([0.5,1.2])\n",
    "        axs[jj,kk].spines['right'].set_visible(False)\n",
    "        axs[jj,kk].spines['top'].set_visible(False)\n",
    "        \n",
    "        if kk==1:\n",
    "            axs[jj,kk].spines['left'].set_visible(False)\n",
    "            axs[jj,kk].tick_params(\n",
    "                axis='y',          # changes apply to the x-axis\n",
    "                which='both',      # both major and minor ticks are affected\n",
    "                bottom=False,      # ticks along the bottom edge are off\n",
    "                left=False,         # ticks along the top edge are off\n",
    "                labelleft=False) # labels along the bottom edge are off\n",
    "            axs[jj,kk].tick_params(axis='x',which='both', bottom=False,top=False,labelbottom=False)\n",
    "            \n",
    "        if (kk==0) and (jj==1):\n",
    "            axs[jj,kk].set_ylabel('id acc',labelpad=0)\n",
    "        if (jj==2) and (kk==0):\n",
    "            axs[jj,kk].set_xticks([0,1])\n",
    "            axs[jj,kk].set_xticklabels(['raw','preprocessed'],rotation=10)\n",
    "        if jj<2:\n",
    "            axs[jj,kk].tick_params(axis='x',which='both', bottom=False,top=False,labelbottom=False)\n",
    "        if (jj==0):\n",
    "            axs[jj,kk].set_title(titles[kk])\n",
    "            \n",
    "        axs[jj,kk].tick_params(axis='both', which='major', pad=-0.5)\n",
    "\n",
    "        axs[jj,kk].text(0.1,0.99,p_string)\n",
    "        for mm in range(2):\n",
    "            axs[jj,kk].text(-0.2+mm,0.53,'{:.2}'.format(y_mean[mm]),size=7)\n",
    "\n",
    "        \n",
    "fig.subplots_adjust(wspace=0.05)\n"
   ]
  }
 ],
 "metadata": {
  "kernelspec": {
   "display_name": "Python 3",
   "language": "python",
   "name": "python3"
  },
  "language_info": {
   "codemirror_mode": {
    "name": "ipython",
    "version": 3
   },
   "file_extension": ".py",
   "mimetype": "text/x-python",
   "name": "python",
   "nbconvert_exporter": "python",
   "pygments_lexer": "ipython3",
   "version": "3.8.5"
  }
 },
 "nbformat": 4,
 "nbformat_minor": 2
}
